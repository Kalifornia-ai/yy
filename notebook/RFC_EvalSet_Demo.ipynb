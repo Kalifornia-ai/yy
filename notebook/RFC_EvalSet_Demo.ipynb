{
 "cells": [
  {
   "cell_type": "code",
   "execution_count": 1,
   "id": "f92bbb09-2961-4aee-98e9-6080259cbb16",
   "metadata": {},
   "outputs": [],
   "source": [
    "%load_ext autoreload\n",
    "%autoreload 2\n",
    "\n",
    "import os\n",
    "os.chdir(globals()['_dh'][0])\n",
    "os.chdir('..')\n",
    "# print(os.path.abspath(os.curdir))"
   ]
  },
  {
   "cell_type": "code",
   "execution_count": 2,
   "id": "2abb7b1d-3191-42ff-82e7-94e9ad2ff195",
   "metadata": {},
   "outputs": [
    {
     "name": "stdout",
     "output_type": "stream",
     "text": [
      "No CUDA device found; using CPU as fallback.\n"
     ]
    },
    {
     "name": "stderr",
     "output_type": "stream",
     "text": [
      "2025-04-03 13:02:30.507942: I metal_plugin/src/device/metal_device.cc:1154] Metal device set to: Apple M1 Pro\n",
      "2025-04-03 13:02:30.507969: I metal_plugin/src/device/metal_device.cc:296] systemMemory: 16.00 GB\n",
      "2025-04-03 13:02:30.507978: I metal_plugin/src/device/metal_device.cc:313] maxCacheSize: 5.33 GB\n",
      "2025-04-03 13:02:30.508009: I tensorflow/core/common_runtime/pluggable_device/pluggable_device_factory.cc:306] Could not identify NUMA node of platform GPU ID 0, defaulting to 0. Your kernel may not have been built with NUMA support.\n",
      "2025-04-03 13:02:30.508021: I tensorflow/core/common_runtime/pluggable_device/pluggable_device_factory.cc:272] Created TensorFlow device (/job:localhost/replica:0/task:0/device:GPU:0 with 0 MB memory) -> physical PluggableDevice (device: 0, name: METAL, pci bus id: <undefined>)\n"
     ]
    }
   ],
   "source": [
    "import numpy as np\n",
    "import matplotlib.pyplot as plt\n",
    "import pickle\n",
    "import rfcutils"
   ]
  },
  {
   "cell_type": "code",
   "execution_count": 3,
   "id": "23b0b56c",
   "metadata": {},
   "outputs": [],
   "source": [
    "import os\n",
    "os.environ[\"MITSUBA_VARIANT\"] = \"llvm_ad_rgb\"\n",
    "import sionna\n"
   ]
  },
  {
   "cell_type": "code",
   "execution_count": 20,
   "id": "e5295056",
   "metadata": {},
   "outputs": [
    {
     "name": "stdout",
     "output_type": "stream",
     "text": [
      "['ALPHA_MAX', 'BOLTZMANN_CONSTANT', 'DIELECTRIC_PERMITTIVITY_VACUUM', 'H', 'PI', 'SPEED_OF_LIGHT', '__builtins__', '__cached__', '__doc__', '__file__', '__loader__', '__name__', '__package__', '__path__', '__spec__', '__version__', 'channel', 'config', 'constants', 'fec', 'mapping', 'mimo', 'nr', 'ofdm', 'rt', 'signal', 'utils']\n",
      "Help on module sionna.utils.tensors in sionna.utils:\n",
      "\n",
      "NAME\n",
      "    sionna.utils.tensors - Functions extending TensorFlow tensor operations\n",
      "\n",
      "FUNCTIONS\n",
      "    expand_to_rank(tensor, target_rank, axis=-1)\n",
      "        Inserts as many axes to a tensor as needed to achieve a desired rank.\n",
      "        \n",
      "        This operation inserts additional dimensions to a ``tensor`` starting at\n",
      "        ``axis``, so that so that the rank of the resulting tensor has rank\n",
      "        ``target_rank``. The dimension index follows Python indexing rules, i.e.,\n",
      "        zero-based, where a negative index is counted backward from the end.\n",
      "        \n",
      "        Args:\n",
      "            tensor : A tensor.\n",
      "            target_rank (int) : The rank of the output tensor.\n",
      "                If ``target_rank`` is smaller than the rank of ``tensor``,\n",
      "                the function does nothing.\n",
      "            axis (int) : The dimension index at which to expand the\n",
      "                   shape of ``tensor``. Given a ``tensor`` of `D` dimensions,\n",
      "                   ``axis`` must be within the range `[-(D+1), D]` (inclusive).\n",
      "        \n",
      "        Returns:\n",
      "            A tensor with the same data as ``tensor``, with\n",
      "            ``target_rank``- rank(``tensor``) additional dimensions inserted at the\n",
      "            index specified by ``axis``.\n",
      "            If ``target_rank`` <= rank(``tensor``), ``tensor`` is returned.\n",
      "    \n",
      "    flatten_dims(tensor, num_dims, axis)\n",
      "        Flattens a specified set of dimensions of a tensor.\n",
      "        \n",
      "        This operation flattens ``num_dims`` dimensions of a ``tensor``\n",
      "        starting at a given ``axis``.\n",
      "        \n",
      "        Args:\n",
      "            tensor : A tensor.\n",
      "            num_dims (int): The number of dimensions\n",
      "                to combine. Must be larger than two and less or equal than the\n",
      "                rank of ``tensor``.\n",
      "            axis (int): The index of the dimension from which to start.\n",
      "        \n",
      "        Returns:\n",
      "            A tensor of the same type as ``tensor`` with ``num_dims``-1 lesser\n",
      "            dimensions, but the same number of elements.\n",
      "    \n",
      "    flatten_last_dims(tensor, num_dims=2)\n",
      "        Flattens the last `n` dimensions of a tensor.\n",
      "        \n",
      "        This operation flattens the last ``num_dims`` dimensions of a ``tensor``.\n",
      "        It is a simplified version of the function ``flatten_dims``.\n",
      "        \n",
      "        Args:\n",
      "            tensor : A tensor.\n",
      "            num_dims (int): The number of dimensions\n",
      "                to combine. Must be greater than or equal to two and less or equal\n",
      "                than the rank of ``tensor``.\n",
      "        \n",
      "        Returns:\n",
      "            A tensor of the same type as ``tensor`` with ``num_dims``-1 lesser\n",
      "            dimensions, but the same number of elements.\n",
      "    \n",
      "    insert_dims(tensor, num_dims, axis=-1)\n",
      "        Adds multiple length-one dimensions to a tensor.\n",
      "        \n",
      "        This operation is an extension to TensorFlow`s ``expand_dims`` function.\n",
      "        It inserts ``num_dims`` dimensions of length one starting from the\n",
      "        dimension ``axis`` of a ``tensor``. The dimension\n",
      "        index follows Python indexing rules, i.e., zero-based, where a negative\n",
      "        index is counted backward from the end.\n",
      "        \n",
      "        Args:\n",
      "            tensor : A tensor.\n",
      "            num_dims (int) : The number of dimensions to add.\n",
      "            axis : The dimension index at which to expand the\n",
      "                   shape of ``tensor``. Given a ``tensor`` of `D` dimensions,\n",
      "                   ``axis`` must be within the range `[-(D+1), D]` (inclusive).\n",
      "        \n",
      "        Returns:\n",
      "            A tensor with the same data as ``tensor``, with ``num_dims`` additional\n",
      "            dimensions inserted at the index specified by ``axis``.\n",
      "    \n",
      "    matrix_inv(tensor)\n",
      "        Computes the inverse of a Hermitian matrix.\n",
      "        \n",
      "        Given a batch of Hermitian positive definite matrices\n",
      "        :math:`\\mathbf{A}`, the function\n",
      "        returns :math:`\\mathbf{A}^{-1}`, such that\n",
      "        :math:`\\mathbf{A}^{-1}\\mathbf{A}=\\mathbf{I}`.\n",
      "        \n",
      "        The two inner dimensions are assumed to correspond to the matrix rows\n",
      "        and columns, respectively.\n",
      "        \n",
      "        Args:\n",
      "            tensor ([..., M, M]) : A tensor of rank greater than or equal\n",
      "                to two.\n",
      "        \n",
      "        Returns:\n",
      "            A tensor of the same shape and type as ``tensor``, containing\n",
      "            the inverse of its last two dimensions.\n",
      "        \n",
      "        Note:\n",
      "            If you want to use this function in Graph mode with XLA, i.e., within\n",
      "            a function that is decorated with ``@tf.function(jit_compile=True)``,\n",
      "            you must set ``sionna.Config.xla_compat=true``.\n",
      "            See :py:attr:`~sionna.Config.xla_compat`.\n",
      "    \n",
      "    matrix_pinv(tensor)\n",
      "        Computes the Moore–Penrose (or pseudo) inverse of a matrix.\n",
      "        \n",
      "        Given a batch of :math:`M \\times K` matrices :math:`\\mathbf{A}` with rank\n",
      "        :math:`K` (i.e., linearly independent columns), the function returns\n",
      "        :math:`\\mathbf{A}^+`, such that\n",
      "        :math:`\\mathbf{A}^{+}\\mathbf{A}=\\mathbf{I}_K`.\n",
      "        \n",
      "        The two inner dimensions are assumed to correspond to the matrix rows\n",
      "        and columns, respectively.\n",
      "        \n",
      "        Args:\n",
      "            tensor ([..., M, K]) : A tensor of rank greater than or equal\n",
      "                to two.\n",
      "        \n",
      "        Returns:\n",
      "            A tensor of shape ([..., K,K]) of the same type as ``tensor``,\n",
      "            containing the pseudo inverse of its last two dimensions.\n",
      "        \n",
      "        Note:\n",
      "            If you want to use this function in Graph mode with XLA, i.e., within\n",
      "            a function that is decorated with ``@tf.function(jit_compile=True)``,\n",
      "            you must set ``sionna.config.xla_compat=true``.\n",
      "            See :py:attr:`~sionna.config.xla_compat`.\n",
      "    \n",
      "    matrix_sqrt(tensor)\n",
      "        Computes the square root of a matrix.\n",
      "        \n",
      "        Given a batch of Hermitian positive semi-definite matrices\n",
      "        :math:`\\mathbf{A}`, returns matrices :math:`\\mathbf{B}`,\n",
      "        such that :math:`\\mathbf{B}\\mathbf{B}^H = \\mathbf{A}`.\n",
      "        \n",
      "        The two inner dimensions are assumed to correspond to the matrix rows\n",
      "        and columns, respectively.\n",
      "        \n",
      "        Args:\n",
      "            tensor ([..., M, M]) : A tensor of rank greater than or equal\n",
      "                to two.\n",
      "        \n",
      "        Returns:\n",
      "            A tensor of the same shape and type as ``tensor`` containing\n",
      "            the matrix square root of its last two dimensions.\n",
      "        \n",
      "        Note:\n",
      "            If you want to use this function in Graph mode with XLA, i.e., within\n",
      "            a function that is decorated with ``@tf.function(jit_compile=True)``,\n",
      "            you must set ``sionna.config.xla_compat=true``.\n",
      "            See :py:attr:`~sionna.config.xla_compat`.\n",
      "    \n",
      "    matrix_sqrt_inv(tensor)\n",
      "        Computes the inverse square root of a Hermitian matrix.\n",
      "        \n",
      "        Given a batch of Hermitian positive definite matrices\n",
      "        :math:`\\mathbf{A}`, with square root matrices :math:`\\mathbf{B}`,\n",
      "        such that :math:`\\mathbf{B}\\mathbf{B}^H = \\mathbf{A}`, the function\n",
      "        returns :math:`\\mathbf{B}^{-1}`, such that\n",
      "        :math:`\\mathbf{B}^{-1}\\mathbf{B}=\\mathbf{I}`.\n",
      "        \n",
      "        The two inner dimensions are assumed to correspond to the matrix rows\n",
      "        and columns, respectively.\n",
      "        \n",
      "        Args:\n",
      "            tensor ([..., M, M]) : A tensor of rank greater than or equal\n",
      "                to two.\n",
      "        \n",
      "        Returns:\n",
      "            A tensor of the same shape and type as ``tensor`` containing\n",
      "            the inverse matrix square root of its last two dimensions.\n",
      "        \n",
      "        Note:\n",
      "            If you want to use this function in Graph mode with XLA, i.e., within\n",
      "            a function that is decorated with ``@tf.function(jit_compile=True)``,\n",
      "            you must set ``sionna.Config.xla_compat=true``.\n",
      "            See :py:attr:`~sionna.Config.xla_compat`.\n",
      "    \n",
      "    split_dim(tensor, shape, axis)\n",
      "        Reshapes a dimension of a tensor into multiple dimensions.\n",
      "        \n",
      "        This operation splits the dimension ``axis`` of a ``tensor`` into\n",
      "        multiple dimensions according to ``shape``.\n",
      "        \n",
      "        Args:\n",
      "            tensor : A tensor.\n",
      "            shape (list or TensorShape): The shape to which the dimension should\n",
      "                be reshaped.\n",
      "            axis (int): The index of the axis to be reshaped.\n",
      "        \n",
      "        Returns:\n",
      "            A tensor of the same type as ``tensor`` with len(``shape``)-1\n",
      "            additional dimensions, but the same number of elements.\n",
      "\n",
      "FILE\n",
      "    /opt/anaconda3/envs/icassp24-rf/lib/python3.9/site-packages/sionna/utils/tensors.py\n",
      "\n",
      "\n"
     ]
    }
   ],
   "source": [
    "\n",
    "\n",
    "# 1) Quick look at top-level attributes\n",
    "print(dir(sionna))\n",
    "\n",
    "# 2) Full docstring summary\n",
    "help(sionna.utils.tensors)\n"
   ]
  },
  {
   "cell_type": "code",
   "execution_count": 21,
   "id": "3c5077c1-6efa-40bb-ac61-2ca68d8f0689",
   "metadata": {},
   "outputs": [],
   "source": [
    "testset_identifier = 'TestSet1Example'\n",
    "soi_type, interference_sig_type = 'QPSK', 'EMISignal1'\n",
    "all_sig_mixture = np.load(os.path.join('dataset', f'{testset_identifier}_testmixture_{soi_type}_{interference_sig_type}.npy'))\n",
    "meta_data = np.load(os.path.join('dataset', f'{testset_identifier}_testmixture_{soi_type}_{interference_sig_type}_metadata.npy'))\n",
    "# For TestSet1Example\n",
    "all_sig_mixture_groundtruth, all_sig1, all_bits1 = pickle.load(open(os.path.join('dataset', f'GroundTruth_{testset_identifier}_Dataset_{soi_type}_{interference_sig_type}.pkl'), 'rb'))"
   ]
  },
  {
   "cell_type": "code",
   "execution_count": 4,
   "id": "2ed81873",
   "metadata": {},
   "outputs": [
    {
     "ename": "FileNotFoundError",
     "evalue": "[Errno 2] No such file or directory: 'dataset/Training_Dataset_BASEBAND_CW_SOI_BASEBAND_CW_INTERFERENCE.npy'",
     "output_type": "error",
     "traceback": [
      "\u001b[0;31m---------------------------------------------------------------------------\u001b[0m",
      "\u001b[0;31mFileNotFoundError\u001b[0m                         Traceback (most recent call last)",
      "Cell \u001b[0;32mIn[4], line 3\u001b[0m\n\u001b[1;32m      1\u001b[0m testset_identifier \u001b[39m=\u001b[39m \u001b[39m'\u001b[39m\u001b[39mTraining_Dataset\u001b[39m\u001b[39m'\u001b[39m\n\u001b[1;32m      2\u001b[0m soi_type, interference_sig_type \u001b[39m=\u001b[39m \u001b[39m'\u001b[39m\u001b[39mBASEBAND_CW_SOI\u001b[39m\u001b[39m'\u001b[39m, \u001b[39m'\u001b[39m\u001b[39mBASEBAND_CW_INTERFERENCE\u001b[39m\u001b[39m'\u001b[39m\n\u001b[0;32m----> 3\u001b[0m all_sig_mixture \u001b[39m=\u001b[39m np\u001b[39m.\u001b[39;49mload(os\u001b[39m.\u001b[39;49mpath\u001b[39m.\u001b[39;49mjoin(\u001b[39m'\u001b[39;49m\u001b[39mdataset\u001b[39;49m\u001b[39m'\u001b[39;49m, \u001b[39mf\u001b[39;49m\u001b[39m'\u001b[39;49m\u001b[39m{\u001b[39;49;00mtestset_identifier\u001b[39m}\u001b[39;49;00m\u001b[39m_\u001b[39;49m\u001b[39m{\u001b[39;49;00msoi_type\u001b[39m}\u001b[39;49;00m\u001b[39m_\u001b[39;49m\u001b[39m{\u001b[39;49;00minterference_sig_type\u001b[39m}\u001b[39;49;00m\u001b[39m.npy\u001b[39;49m\u001b[39m'\u001b[39;49m))\n\u001b[1;32m      4\u001b[0m meta_data \u001b[39m=\u001b[39m np\u001b[39m.\u001b[39mload(os\u001b[39m.\u001b[39mpath\u001b[39m.\u001b[39mjoin(\u001b[39m'\u001b[39m\u001b[39mdataset\u001b[39m\u001b[39m'\u001b[39m, \u001b[39mf\u001b[39m\u001b[39m'\u001b[39m\u001b[39m{\u001b[39;00mtestset_identifier\u001b[39m}\u001b[39;00m\u001b[39m_testmixture_\u001b[39m\u001b[39m{\u001b[39;00msoi_type\u001b[39m}\u001b[39;00m\u001b[39m_\u001b[39m\u001b[39m{\u001b[39;00minterference_sig_type\u001b[39m}\u001b[39;00m\u001b[39m_metadata.npy\u001b[39m\u001b[39m'\u001b[39m))\n\u001b[1;32m      5\u001b[0m \u001b[39m# For TestSet1Example\u001b[39;00m\n",
      "File \u001b[0;32m/opt/anaconda3/envs/icassp24-rf/lib/python3.9/site-packages/numpy/lib/npyio.py:427\u001b[0m, in \u001b[0;36mload\u001b[0;34m(file, mmap_mode, allow_pickle, fix_imports, encoding, max_header_size)\u001b[0m\n\u001b[1;32m    425\u001b[0m     own_fid \u001b[39m=\u001b[39m \u001b[39mFalse\u001b[39;00m\n\u001b[1;32m    426\u001b[0m \u001b[39melse\u001b[39;00m:\n\u001b[0;32m--> 427\u001b[0m     fid \u001b[39m=\u001b[39m stack\u001b[39m.\u001b[39menter_context(\u001b[39mopen\u001b[39;49m(os_fspath(file), \u001b[39m\"\u001b[39;49m\u001b[39mrb\u001b[39;49m\u001b[39m\"\u001b[39;49m))\n\u001b[1;32m    428\u001b[0m     own_fid \u001b[39m=\u001b[39m \u001b[39mTrue\u001b[39;00m\n\u001b[1;32m    430\u001b[0m \u001b[39m# Code to distinguish from NumPy binary files and pickles.\u001b[39;00m\n",
      "\u001b[0;31mFileNotFoundError\u001b[0m: [Errno 2] No such file or directory: 'dataset/Training_Dataset_BASEBAND_CW_SOI_BASEBAND_CW_INTERFERENCE.npy'"
     ]
    }
   ],
   "source": [
    "testset_identifier = 'Training_Dataset'\n",
    "soi_type, interference_sig_type = 'BASEBAND_CW_SOI', 'BASEBAND_CW_INTERFERENCE'\n",
    "all_sig_mixture = np.load(os.path.join('dataset', f'{testset_identifier}_{soi_type}_{interference_sig_type}.npy'))\n",
    "meta_data = np.load(os.path.join('dataset', f'{testset_identifier}_testmixture_{soi_type}_{interference_sig_type}_metadata.npy'))\n",
    "# For TestSet1Example\n",
    "all_sig_mixture_groundtruth, all_sig1, all_bits1 = pickle.load(open(os.path.join('dataset', f'GroundTruth_{testset_identifier}_Dataset_{soi_type}_{interference_sig_type}.pkl'), 'rb'))"
   ]
  },
  {
   "cell_type": "code",
   "execution_count": 22,
   "id": "52f36c60-0cc6-426d-8400-57a0876f8f21",
   "metadata": {},
   "outputs": [],
   "source": [
    "example_idx = 0"
   ]
  },
  {
   "cell_type": "code",
   "execution_count": 23,
   "id": "b0e246bb-d486-4802-9ae2-8457a0e0b9d9",
   "metadata": {},
   "outputs": [
    {
     "name": "stderr",
     "output_type": "stream",
     "text": [
      "/opt/anaconda3/envs/icassp24-rf/lib/python3.9/site-packages/matplotlib/cbook.py:1762: ComplexWarning: Casting complex values to real discards the imaginary part\n",
      "  return math.isfinite(val)\n",
      "/opt/anaconda3/envs/icassp24-rf/lib/python3.9/site-packages/matplotlib/cbook.py:1398: ComplexWarning: Casting complex values to real discards the imaginary part\n",
      "  return np.asarray(x, float)\n"
     ]
    },
    {
     "data": {
      "image/png": "[encoded data removed]",
      "text/plain": [
       "<Figure size 640x480 with 1 Axes>"
      ]
     },
     "metadata": {},
     "output_type": "display_data"
    },
    {
     "data": {
      "image/png": "[encoded data removed]",
      "text/plain": [
       "<Figure size 640x480 with 1 Axes>"
      ]
     },
     "metadata": {},
     "output_type": "display_data"
    }
   ],
   "source": [
    "plt.figure()\n",
    "plt.plot(all_sig1[example_idx], color='tab:green')\n",
    "plt.xlim([4000, 4640])\n",
    "plt.show()\n",
    "\n",
    "plt.figure()\n",
    "plt.plot(all_sig_mixture[example_idx], color='tab:purple')\n",
    "plt.xlim([4000, 4640])\n",
    "plt.show()"
   ]
  },
  {
   "cell_type": "code",
   "execution_count": 24,
   "id": "2249da44-da38-4d56-bb7c-441e3ef30bae",
   "metadata": {},
   "outputs": [],
   "source": [
    "sig_len = 40960\n",
    "def get_soi_generation_fn(soi_sig_type):\n",
    "    if soi_sig_type == 'QPSK':\n",
    "        generate_soi = lambda n, s_len: rfcutils.generate_qpsk_signal(n, s_len//16)\n",
    "        demod_soi = rfcutils.qpsk_matched_filter_demod\n",
    "    elif soi_sig_type == 'QAM16':\n",
    "        generate_soi = lambda n, s_len: rfcutils.generate_qam16_signal(n, s_len//16)\n",
    "        demod_soi = rfcutils.qam16_matched_filter_demod\n",
    "    elif soi_sig_type ==  'QPSK2':\n",
    "        generate_soi = lambda n, s_len: rfcutils.generate_qpsk2_signal(n, s_len//4)\n",
    "        demod_soi = rfcutils.qpsk2_matched_filter_demod\n",
    "    elif soi_sig_type == 'OFDMQPSK':\n",
    "        generate_soi = lambda n, s_len: rfcutils.generate_ofdm_signal(n, s_len//80)\n",
    "        _,_,_,RES_GRID = rfcutils.generate_ofdm_signal(1, sig_len//80)\n",
    "        demod_soi = lambda s: rfcutils.ofdm_demod(s, RES_GRID)\n",
    "    else:\n",
    "        raise Exception(\"SOI Type not recognized\")\n",
    "    return generate_soi, demod_soi\n",
    "\n",
    "generate_soi, demod_soi = get_soi_generation_fn(soi_type)"
   ]
  },
  {
   "cell_type": "code",
   "execution_count": 25,
   "id": "9e8c3f5c-b9d2-4e51-ab47-480e6382ebb5",
   "metadata": {},
   "outputs": [
    {
     "data": {
      "text/plain": [
       "True"
      ]
     },
     "execution_count": 25,
     "metadata": {},
     "output_type": "execute_result"
    }
   ],
   "source": [
    "bits_demod, syms_demod = demod_soi(all_sig1[example_idx:example_idx+1]) # retain the shape, axis=0 should be the mixture index\n",
    "np.allclose(bits_demod, all_bits1[example_idx:example_idx+1])"
   ]
  },
  {
   "cell_type": "markdown",
   "id": "477b69d5-4a2d-4927-84e4-e8dde01acce0",
   "metadata": {},
   "source": [
    "### Baseline Curves with TestSet1Example"
   ]
  },
  {
   "cell_type": "code",
   "execution_count": 26,
   "id": "fb35c06f-2b72-403f-a115-a4a0189e076c",
   "metadata": {},
   "outputs": [],
   "source": [
    "all_sinr = np.arange(-30, 0.1, 3)\n",
    "n_per_batch = 100\n",
    "\n",
    "def run_demod_test(sig1_est, bit1_est, soi_type, interference_sig_type, testset_identifier):\n",
    "    # For SampleEvalSet\n",
    "    all_sig_mixture_groundtruth, all_sig1, all_bits1 = pickle.load(open(os.path.join('dataset', f'GroundTruth_{testset_identifier}_Dataset_{soi_type}_{interference_sig_type}.pkl'), 'rb'))\n",
    "    \n",
    "    # Evaluation pipeline\n",
    "    def eval_mse(all_sig_est, all_sig_soi):\n",
    "        assert all_sig_est.shape == all_sig_soi.shape, 'Invalid SOI estimate shape'\n",
    "        return np.mean(np.abs(all_sig_est - all_sig_soi)**2, axis=1)\n",
    "    \n",
    "    def eval_ber(bit_est, bit_true):\n",
    "        ber = np.sum((bit_est != bit_true).astype(np.float32), axis=1) / bit_true.shape[1]\n",
    "        assert bit_est.shape == bit_true.shape, 'Invalid bit estimate shape'\n",
    "        return ber\n",
    "\n",
    "    all_mse, all_ber = [], [] \n",
    "    for idx, sinr in enumerate(all_sinr):\n",
    "        batch_mse =  eval_mse(sig1_est[idx*n_per_batch:(idx+1)*n_per_batch], all_sig1[idx*n_per_batch:(idx+1)*n_per_batch])\n",
    "        bit_true_batch = all_bits1[idx*n_per_batch:(idx+1)*n_per_batch]\n",
    "        batch_ber = eval_ber(bit1_est[idx*n_per_batch:(idx+1)*n_per_batch], bit_true_batch)\n",
    "        all_mse.append(batch_mse)\n",
    "        all_ber.append(batch_ber)\n",
    "\n",
    "    all_mse, all_ber = np.array(all_mse), np.array(all_ber)\n",
    "    mse_mean = 10*np.log10(np.mean(all_mse, axis=-1))\n",
    "    ber_mean = np.mean(all_ber, axis=-1)\n",
    "    return mse_mean, ber_mean"
   ]
  },
  {
   "cell_type": "code",
   "execution_count": 28,
   "id": "984a053b-8d89-459d-85c3-ef461fb90d95",
   "metadata": {},
   "outputs": [
    {
     "ename": "FileNotFoundError",
     "evalue": "[Errno 2] No such file or directory: 'outputs/Default_NoMitigation_TestSet1Example_estimated_soi_QPSK_EMISignal1.npy'",
     "output_type": "error",
     "traceback": [
      "\u001b[0;31m---------------------------------------------------------------------------\u001b[0m",
      "\u001b[0;31mFileNotFoundError\u001b[0m                         Traceback (most recent call last)",
      "Cell \u001b[0;32mIn[28], line 7\u001b[0m\n\u001b[1;32m      5\u001b[0m all_mse, all_ber \u001b[39m=\u001b[39m {}, {}\n\u001b[1;32m      6\u001b[0m \u001b[39mfor\u001b[39;00m id_string \u001b[39min\u001b[39;00m [\u001b[39m'\u001b[39m\u001b[39mDefault_NoMitigation\u001b[39m\u001b[39m'\u001b[39m, \u001b[39m'\u001b[39m\u001b[39mDefault_LMMSE\u001b[39m\u001b[39m'\u001b[39m, \u001b[39m'\u001b[39m\u001b[39mDefault_TF_UNet\u001b[39m\u001b[39m'\u001b[39m, \u001b[39m'\u001b[39m\u001b[39mDefault_Torch_WaveNet\u001b[39m\u001b[39m'\u001b[39m]:\n\u001b[0;32m----> 7\u001b[0m     sig1_est \u001b[39m=\u001b[39m np\u001b[39m.\u001b[39;49mload(os\u001b[39m.\u001b[39;49mpath\u001b[39m.\u001b[39;49mjoin(\u001b[39m'\u001b[39;49m\u001b[39moutputs\u001b[39;49m\u001b[39m'\u001b[39;49m, \u001b[39mf\u001b[39;49m\u001b[39m'\u001b[39;49m\u001b[39m{\u001b[39;49;00mid_string\u001b[39m}\u001b[39;49;00m\u001b[39m_\u001b[39;49m\u001b[39m{\u001b[39;49;00mtestset_identifier\u001b[39m}\u001b[39;49;00m\u001b[39m_estimated_soi_\u001b[39;49m\u001b[39m{\u001b[39;49;00msoi_type\u001b[39m}\u001b[39;49;00m\u001b[39m_\u001b[39;49m\u001b[39m{\u001b[39;49;00minterference_sig_type\u001b[39m}\u001b[39;49;00m\u001b[39m.npy\u001b[39;49m\u001b[39m'\u001b[39;49m))\n\u001b[1;32m      8\u001b[0m     bit1_est \u001b[39m=\u001b[39m np\u001b[39m.\u001b[39mload(os\u001b[39m.\u001b[39mpath\u001b[39m.\u001b[39mjoin(\u001b[39m'\u001b[39m\u001b[39moutputs\u001b[39m\u001b[39m'\u001b[39m, \u001b[39mf\u001b[39m\u001b[39m'\u001b[39m\u001b[39m{\u001b[39;00mid_string\u001b[39m}\u001b[39;00m\u001b[39m_\u001b[39m\u001b[39m{\u001b[39;00mtestset_identifier\u001b[39m}\u001b[39;00m\u001b[39m_estimated_bits_\u001b[39m\u001b[39m{\u001b[39;00msoi_type\u001b[39m}\u001b[39;00m\u001b[39m_\u001b[39m\u001b[39m{\u001b[39;00minterference_sig_type\u001b[39m}\u001b[39;00m\u001b[39m.npy\u001b[39m\u001b[39m'\u001b[39m))\n\u001b[1;32m      9\u001b[0m     mse_mean, ber_mean \u001b[39m=\u001b[39m run_demod_test(sig1_est, bit1_est, soi_type, interference_sig_type, testset_identifier)\n",
      "File \u001b[0;32m/opt/anaconda3/envs/icassp24-rf/lib/python3.9/site-packages/numpy/lib/npyio.py:427\u001b[0m, in \u001b[0;36mload\u001b[0;34m(file, mmap_mode, allow_pickle, fix_imports, encoding, max_header_size)\u001b[0m\n\u001b[1;32m    425\u001b[0m     own_fid \u001b[39m=\u001b[39m \u001b[39mFalse\u001b[39;00m\n\u001b[1;32m    426\u001b[0m \u001b[39melse\u001b[39;00m:\n\u001b[0;32m--> 427\u001b[0m     fid \u001b[39m=\u001b[39m stack\u001b[39m.\u001b[39menter_context(\u001b[39mopen\u001b[39;49m(os_fspath(file), \u001b[39m\"\u001b[39;49m\u001b[39mrb\u001b[39;49m\u001b[39m\"\u001b[39;49m))\n\u001b[1;32m    428\u001b[0m     own_fid \u001b[39m=\u001b[39m \u001b[39mTrue\u001b[39;00m\n\u001b[1;32m    430\u001b[0m \u001b[39m# Code to distinguish from NumPy binary files and pickles.\u001b[39;00m\n",
      "\u001b[0;31mFileNotFoundError\u001b[0m: [Errno 2] No such file or directory: 'outputs/Default_NoMitigation_TestSet1Example_estimated_soi_QPSK_EMISignal1.npy'"
     ]
    }
   ],
   "source": [
    "testset_identifier = 'TestSet1Example'\n",
    "for soi_type in ['QPSK', 'EMISignal1']:\n",
    "    for interference_sig_type in ['EMISignal1', 'CommSignal2', 'CommSignal3', 'CommSignal5G1']:\n",
    "\n",
    "        all_mse, all_ber = {}, {}\n",
    "        for id_string in ['Default_NoMitigation', 'Default_LMMSE', 'Default_TF_UNet', 'Default_Torch_WaveNet']:\n",
    "            sig1_est = np.load(os.path.join('outputs', f'{id_string}_{testset_identifier}_estimated_soi_{soi_type}_{interference_sig_type}.npy'))\n",
    "            bit1_est = np.load(os.path.join('outputs', f'{id_string}_{testset_identifier}_estimated_bits_{soi_type}_{interference_sig_type}.npy'))\n",
    "            mse_mean, ber_mean = run_demod_test(sig1_est, bit1_est, soi_type, interference_sig_type, testset_identifier)\n",
    "            all_mse[id_string] = mse_mean\n",
    "            all_ber[id_string] = ber_mean\n",
    "\n",
    "        plt.figure()\n",
    "        for id_string in all_mse.keys():\n",
    "            plt.plot(all_sinr, all_mse[id_string], 'x--', label=id_string)\n",
    "        plt.legend()\n",
    "        plt.grid()\n",
    "        plt.gca().set_ylim(top=3)\n",
    "        plt.xlabel('SINR [dB]')\n",
    "        plt.ylabel('MSE [dB]')\n",
    "        plt.title(f'MSE - {soi_type} + {interference_sig_type}')\n",
    "        plt.show()\n",
    "\n",
    "        plt.figure()\n",
    "        for id_string in all_ber.keys():\n",
    "            plt.semilogy(all_sinr, all_ber[id_string], 'x--', label=id_string)\n",
    "        plt.legend()\n",
    "        plt.grid()\n",
    "        plt.ylim([1e-4, 1])\n",
    "        plt.xlabel('SINR [dB]')\n",
    "        plt.ylabel('BER')\n",
    "        plt.title(f'BER - {soi_type} + {interference_sig_type}')\n",
    "        plt.show()"
   ]
  },
  {
   "cell_type": "code",
   "execution_count": null,
   "id": "94076687-abda-4841-8852-1a8c5ba83be5",
   "metadata": {},
   "outputs": [],
   "source": []
  }
 ],
 "metadata": {
  "kernelspec": {
   "display_name": "Python 3.13.2 ('icassp24-rf')",
   "language": "python",
   "name": "python3"
  },
  "language_info": {
   "codemirror_mode": {
    "name": "ipython",
    "version": 3
   },
   "file_extension": ".py",
   "mimetype": "text/x-python",
   "name": "python",
   "nbconvert_exporter": "python",
   "pygments_lexer": "ipython3",
   "version": "3.9.21"
  },
  "vscode": {
   "interpreter": {
    "hash": "b0c61d133d72c20f3f8db13b1687ae0e62164da42540d36f05bebb986f7640cd"
   }
  }
 },
 "nbformat": 4,
 "nbformat_minor": 5
}
